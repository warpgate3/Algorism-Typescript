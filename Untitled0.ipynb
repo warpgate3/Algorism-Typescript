{
  "nbformat": 4,
  "nbformat_minor": 0,
  "metadata": {
    "colab": {
      "name": "Untitled0.ipynb",
      "provenance": [],
      "authorship_tag": "ABX9TyM+ghlVo3LuulSUMCJz45CG",
      "include_colab_link": true
    },
    "kernelspec": {
      "name": "python3",
      "display_name": "Python 3"
    },
    "language_info": {
      "name": "python"
    }
  },
  "cells": [
    {
      "cell_type": "markdown",
      "metadata": {
        "id": "view-in-github",
        "colab_type": "text"
      },
      "source": [
        "<a href=\"https://colab.research.google.com/github/warpgate3/Algorism-Typescript/blob/master/Untitled0.ipynb\" target=\"_parent\"><img src=\"https://colab.research.google.com/assets/colab-badge.svg\" alt=\"Open In Colab\"/></a>"
      ]
    },
    {
      "cell_type": "code",
      "execution_count": 78,
      "metadata": {
        "colab": {
          "base_uri": "https://localhost:8080/"
        },
        "id": "jy2_EF5qjwr0",
        "outputId": "f70544b4-da08-46d2-8061-646ce83a4b46"
      },
      "outputs": [
        {
          "output_type": "stream",
          "name": "stdout",
          "text": [
            "        createDt  defCnt\n",
            "0     2022-04-17   10899\n",
            "1     2022-04-17  209361\n",
            "2     2022-04-17  976778\n",
            "3     2022-04-17  656804\n",
            "4     2022-04-17  513157\n",
            "...          ...     ...\n",
            "1439  2022-02-01   53037\n",
            "1440  2022-02-01   34030\n",
            "1441  2022-02-01   35414\n",
            "1442  2022-02-01  281456\n",
            "1443  2022-02-01  864042\n",
            "\n",
            "[1444 rows x 2 columns]\n"
          ]
        }
      ],
      "source": [
        "from re import A\n",
        "import pandas as pd\n",
        "import numpy as np\n",
        "\n",
        "covid_df = pd.read_csv('/content/covid19-2021-2022.csv')\n",
        "\n",
        "#covid_df.isnull()\n",
        "#covid_df_tot = covid_df.loc[covid_df['gubunEn'] == 'Total']\n",
        "\n",
        "covid_dt = pd.DataFrame(covid_df,columns=['createDt','defCnt'])\n",
        "\n",
        "#\n",
        "\n",
        "#pd.date_range(covid_dt,start='2021-02-01', end='2022-01-31')\n",
        "#covid_df_tot = pd.DataFrmae(covid_df[covid_df['gubunEn'] == 'Total'], columns=['createDate']\n",
        "\n",
        "#X_train, Y_train = covid_dt[(covid_dt['createDt'] >= '2021-02-01') & (covid_dt['createDt'] <= '2022-01-31')]\n",
        "#print(covid_dt[(covid_dt['createDt'] >= '2021-02-01') & (covid_dt['createDt'] <= '2022-01-31')])\n",
        "#X_test, Y_test = covid_dt[(covid_dt['createDt'] >= '2022-02-01') & (covid_dt['createDt'] <= '2022-04-17')]\n",
        "print(covid_dt[(covid_dt['createDt'] >= '2022-02-01') & (covid_dt['createDt'] <= '2022-04-17')])\n",
        "#covid_df_tot.columns\n",
        "#print(pd.DataFrame(covid_df_tot, columns=['createDt', 'deathCnt']))\n",
        "\n",
        "#covid_df_tot.gubunEn\n",
        "\n",
        "\n"
      ]
    },
    {
      "cell_type": "code",
      "source": [
        ""
      ],
      "metadata": {
        "id": "glqZmKrBq6di"
      },
      "execution_count": 68,
      "outputs": []
    }
  ]
}