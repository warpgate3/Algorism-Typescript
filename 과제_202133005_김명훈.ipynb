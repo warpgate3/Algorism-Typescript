{
  "nbformat": 4,
  "nbformat_minor": 0,
  "metadata": {
    "colab": {
      "name": "과제_202133005_김명훈.ipynb",
      "provenance": [],
      "collapsed_sections": [],
      "include_colab_link": true
    },
    "kernelspec": {
      "name": "python3",
      "display_name": "Python 3"
    },
    "language_info": {
      "name": "python"
    }
  },
  "cells": [
    {
      "cell_type": "markdown",
      "metadata": {
        "id": "view-in-github",
        "colab_type": "text"
      },
      "source": [
        "<a href=\"https://colab.research.google.com/github/warpgate3/Algorism-Typescript/blob/master/%EA%B3%BC%EC%A0%9C_202133005_%EA%B9%80%EB%AA%85%ED%9B%88.ipynb\" target=\"_parent\"><img src=\"https://colab.research.google.com/assets/colab-badge.svg\" alt=\"Open In Colab\"/></a>"
      ]
    },
    {
      "cell_type": "code",
      "execution_count": 57,
      "metadata": {
        "colab": {
          "base_uri": "https://localhost:8080/"
        },
        "id": "q8Vbef03Dmcl",
        "outputId": "0c17c968-c768-4269-e7a1-03f44b8ebbb7"
      },
      "outputs": [
        {
          "output_type": "stream",
          "name": "stdout",
          "text": [
            "             mean\n",
            "project          \n",
            "204      2.666667\n",
            "107      2.444444\n",
            "132      2.388889\n",
            "109      2.375000\n",
            "206      2.333333\n",
            "207      2.277778\n",
            "119      2.250000\n",
            "209      2.222222\n",
            "201      2.166667\n",
            "131      2.166667\n",
            "129      2.055556\n",
            "208      1.833333\n",
            "108      1.833333\n",
            "101      1.722222\n",
            "133      1.666667\n",
            "126      1.611111\n",
            "205      1.555556\n",
            "122      1.500000\n",
            "125      1.500000\n",
            "121      1.500000\n",
            "127      1.277778\n",
            "111      1.250000\n",
            "202      1.222222\n",
            "203      1.166667\n",
            "115      1.125000\n",
            "130      1.055556\n",
            "110      1.000000\n",
            "116      1.000000\n",
            "123      1.000000\n",
            "104      1.000000\n",
            "134      0.944444\n",
            "128      0.888889\n",
            "105      0.833333\n",
            "112      0.750000\n",
            "102      0.611111\n",
            "103      0.611111\n",
            "113      0.500000\n",
            "114      0.375000\n",
            "118      0.250000\n",
            "120      0.250000\n",
            "106      0.166667\n",
            "117      0.000000\n",
            "124      0.000000\n"
          ]
        },
        {
          "output_type": "stream",
          "name": "stderr",
          "text": [
            "/usr/local/lib/python3.7/dist-packages/ipykernel_launcher.py:20: SettingWithCopyWarning: \n",
            "A value is trying to be set on a copy of a slice from a DataFrame.\n",
            "Try using .loc[row_indexer,col_indexer] = value instead\n",
            "\n",
            "See the caveats in the documentation: https://pandas.pydata.org/pandas-docs/stable/user_guide/indexing.html#returning-a-view-versus-a-copy\n"
          ]
        }
      ],
      "source": [
        "import pandas as pd\n",
        "\n",
        "eval_data = pd.read_csv('/content/evaldata.csv')\n",
        "\n",
        "\n",
        "#평가자별 SCORE1,2,3 의 MIN MAX 값을 추가한다.\n",
        "eval_data['score1_max'] = eval_data.groupby(eval_data['evaluator'])['score1'].transform('max')\n",
        "eval_data['score1_min'] = eval_data.groupby(eval_data['evaluator'])['score1'].transform('min')\n",
        "eval_data['score2_max'] = eval_data.groupby(eval_data['evaluator'])['score2'].transform('max')\n",
        "eval_data['score2_min'] = eval_data.groupby(eval_data['evaluator'])['score2'].transform('min')\n",
        "eval_data['score3_max'] = eval_data.groupby(eval_data['evaluator'])['score3'].transform('max')\n",
        "eval_data['score3_min'] = eval_data.groupby(eval_data['evaluator'])['score3'].transform('min')\n",
        "\n",
        "#SCORE1,2,3 의 min-max scaling 된 점수 필드를 추가한다.\n",
        "eval_data['mmx_scale_1'] = (eval_data['score1'] - eval_data['score1_min']) / (eval_data['score1_max']-eval_data['score1_min'])\n",
        "eval_data['mmx_scale_2'] = (eval_data['score2'] - eval_data['score2_min']) / (eval_data['score2_max']-eval_data['score2_min'])\n",
        "eval_data['mmx_scale_3'] = (eval_data['score3'] - eval_data['score3_min']) / (eval_data['score3_max']-eval_data['score3_min'])\n",
        "\n",
        "#평가자,프로젝트 정규화된 값만을 이용한 Dataframe 을 재생성한다.\n",
        "mmx_df = eval_data[['evaluator','project','mmx_scale_1','mmx_scale_2','mmx_scale_3']]\n",
        "\n",
        "#정규화된 1,2,3 score 의 합을 구한다.\n",
        "mmx_df['total'] = mmx_df['mmx_scale_1'] + mmx_df['mmx_scale_2'] + mmx_df['mmx_scale_3']\n",
        "\n",
        "#프로젝트별 TOTAL 의 평균값을 구한다.\n",
        "mmx_total_df = mmx_df.groupby('project').total.agg(['mean'])\n",
        "\n",
        "#평균값으로 내림차순하고 출력한다.\n",
        "print(mmx_total_df.sort_values('mean', ascending=False))\n",
        "\n"
      ]
    }
  ]
}